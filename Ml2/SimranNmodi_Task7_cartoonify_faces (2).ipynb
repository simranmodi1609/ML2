{
 "cells": [
  {
   "cell_type": "markdown",
   "id": "e7ea792c",
   "metadata": {},
   "source": [
    "## Import the Library"
   ]
  },
  {
   "cell_type": "code",
   "execution_count": null,
   "id": "a11cb79b",
   "metadata": {},
   "outputs": [],
   "source": [
    "import cv2\n",
    "import time\n",
    "import numpy as np"
   ]
  },
  {
   "cell_type": "markdown",
   "id": "16334828",
   "metadata": {},
   "source": [
    "## Load the pre-trained face cascade"
   ]
  },
  {
   "cell_type": "code",
   "execution_count": null,
   "id": "5d2c0572",
   "metadata": {},
   "outputs": [],
   "source": [
    "face_cascade = cv2.CascadeClassifier(cv2.data.haarcascades + 'haarcascade_frontalface_default.xml')"
   ]
  },
  {
   "cell_type": "markdown",
   "id": "05f2ec32",
   "metadata": {},
   "source": [
    "## Load the cartoon mask image"
   ]
  },
  {
   "cell_type": "code",
   "execution_count": null,
   "id": "7ba87388",
   "metadata": {},
   "outputs": [],
   "source": [
    "cartoon_mask_path = '/Users/simranmodi/Desktop/dora-the-explorer.png'\n",
    "cartoon_mask = cv2.imread(cartoon_mask_path, cv2.IMREAD_UNCHANGED)"
   ]
  },
  {
   "cell_type": "code",
   "execution_count": null,
   "id": "8cbd0150",
   "metadata": {},
   "outputs": [],
   "source": [
    "if cartoon_mask.shape[2] == 3:\n",
    "    alpha_channel = 255 * np.ones_like(cartoon_mask[:, :, :1], dtype=cartoon_mask.dtype)\n",
    "    cartoon_mask = np.concatenate([cartoon_mask, alpha_channel], axis=2)\n"
   ]
  },
  {
   "cell_type": "code",
   "execution_count": null,
   "id": "14342d12",
   "metadata": {},
   "outputs": [],
   "source": [
    "if cartoon_mask is None:\n",
    "    print(f\"Error: Couldn't load the cartoon mask image at {cartoon_mask_path}\")\n",
    "    exit()"
   ]
  },
  {
   "cell_type": "markdown",
   "id": "71bd1d80",
   "metadata": {},
   "source": [
    "## Open the default camera"
   ]
  },
  {
   "cell_type": "code",
   "execution_count": null,
   "id": "d2370e8b",
   "metadata": {},
   "outputs": [],
   "source": [
    "cap = cv2.VideoCapture(0)\n",
    "# Check if the camera is opened successfully\n",
    "if not cap.isOpened():\n",
    "    print(\"Error: Couldn't open the camera.\")\n",
    "    exit()"
   ]
  },
  {
   "cell_type": "code",
   "execution_count": null,
   "id": "9e2128d9",
   "metadata": {},
   "outputs": [],
   "source": [
    "# Define the output file name\n",
    "output_file = 'simrannmodit7.mp4'\n",
    "\n",
    "# Define the codec and create a VideoWriter object\n",
    "fourcc = cv2.VideoWriter_fourcc(*'XVID')\n",
    "out = cv2.VideoWriter(output_file, fourcc, 30, (int(cap.get(3)), int(cap.get(4))))\n"
   ]
  },
  {
   "cell_type": "code",
   "execution_count": null,
   "id": "dfaf6600",
   "metadata": {},
   "outputs": [],
   "source": [
    "# Get the current time\n",
    "start_time = time.time()\n",
    "\n",
    "while True:\n",
    "    # Read a frame from the camera\n",
    "    ret, frame = cap.read()\n",
    "\n",
    "    # Check if the frame is successfully read\n",
    "    if not ret:\n",
    "        print(\"Error: Couldn't read a frame from the camera.\")\n",
    "        break\n",
    "\n",
    "    # Convert the frame to grayscale for face detection\n",
    "    gray = cv2.cvtColor(frame, cv2.COLOR_BGR2GRAY)\n",
    "\n",
    "    # Detect faces in the grayscale frame\n",
    "    faces = face_cascade.detectMultiScale(gray, scaleFactor=1.3, minNeighbors=5)\n",
    "\n",
    "    # Loop through detected faces and replace them with the cartoon mask\n",
    "    for (x, y, w, h) in faces:\n",
    "        # Resize the cartoon mask to match the size of the detected face\n",
    "        cartoon_mask_resized = cv2.resize(cartoon_mask, (w, h))\n",
    "\n",
    "        # Replace the face region with the cartoon mask\n",
    "        frame[y:y+h, x:x+w, :3] = frame[y:y+h, x:x+w, :3] * (1 - cartoon_mask_resized[:, :, 3:] / 255.0) + cartoon_mask_resized[:, :, :3] * (cartoon_mask_resized[:, :, 3:] / 255.0)\n",
    "\n",
    "    # Display the resulting frame\n",
    "    cv2.imshow('Cartoon Mask Video', frame)\n",
    "\n",
    "    # Write the frame to the video file\n",
    "    out.write(frame)\n",
    "\n",
    "    # Check if 10 seconds have passed\n",
    "    if time.time() - start_time > 10:\n",
    "        break\n",
    "\n",
    "    # Break the loop when 'q' is pressed\n",
    "    if cv2.waitKey(1) & 0xFF == ord('q'):\n",
    "        break\n",
    "\n",
    "# Release the camera and VideoWriter\n",
    "cap.release()\n",
    "out.release()\n",
    "\n",
    "# Destroy any OpenCV windows if you have them open\n",
    "cv2.destroyAllWindows()\n"
   ]
  }
 ],
 "metadata": {
  "kernelspec": {
   "display_name": "Python 3 (ipykernel)",
   "language": "python",
   "name": "python3"
  },
  "language_info": {
   "codemirror_mode": {
    "name": "ipython",
    "version": 3
   },
   "file_extension": ".py",
   "mimetype": "text/x-python",
   "name": "python",
   "nbconvert_exporter": "python",
   "pygments_lexer": "ipython3",
   "version": "3.11.5"
  }
 },
 "nbformat": 4,
 "nbformat_minor": 5
}
